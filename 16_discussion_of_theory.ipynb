{
 "cells": [
  {
   "cell_type": "code",
   "execution_count": 1,
   "id": "450cab24-12e9-42e3-9e17-1d01f1ef8a22",
   "metadata": {},
   "outputs": [],
   "source": [
    "import numpy as np\n",
    "import scipy as sp\n",
    "import pandas as pd\n",
    "import seaborn as sns\n",
    "import matplotlib.pyplot as plt\n",
    "from matplotlib import rcParams, colors\n",
    "from tqdm import tqdm\n",
    "import emcee\n",
    "import corner\n",
    "import plotly.express as px\n",
    "import plotly.graph_objects as go\n",
    "import re\n",
    "import glob\n",
    "\n",
    "%matplotlib inline\n",
    "# figure size in inches\n",
    "rcParams['figure.figsize'] = 12,8\n",
    "rcParams['axes.formatter.useoffset'] = False\n",
    "\n",
    "pd.set_option('display.max_columns', None)\n",
    "pd.set_option('display.max_rows', None)"
   ]
  },
  {
   "cell_type": "markdown",
   "id": "aaa61680-512c-4a7a-963d-a2b999557572",
   "metadata": {},
   "source": [
    "## Discussion of tidal decay theory"
   ]
  },
  {
   "cell_type": "markdown",
   "id": "d6c1f633-7cf6-44e7-bda2-66278ac1a382",
   "metadata": {},
   "source": [
    "A while back we had some problems modelling the decay of Kelt 1. We got some results that said it should be decaying, but there's a plethora of evidence to suggest that brown giant Kelt-1b is tidally synchronized with its host star.\n",
    "\n",
    "The general equation for tidal decay that is quoted in almost every tidal decay related paper out there does not take into the relative rotational speeds of star and planet. This is my attempt to explain why they don't take it into account, why we should, and how we can improve this."
   ]
  },
  {
   "cell_type": "markdown",
   "id": "2da780bb-5cb1-4e88-9225-fe791da72ab9",
   "metadata": {},
   "source": [
    "#### Simple derivation of tidal decay equation:"
   ]
  },
  {
   "cell_type": "markdown",
   "id": "4f90a1b5-2704-4c7a-8806-d1547af97fec",
   "metadata": {},
   "source": [
    "1. A torque is induced on the planet due to the fact that the gravitational potential is NOT axisymmetric due to tidal bulges in the star."
   ]
  },
  {
   "cell_type": "markdown",
   "id": "e5828fbd-9a5b-411c-8cbb-3e463f8cd915",
   "metadata": {},
   "source": [
    "\\begin{aligned}\n",
    "T & =M_p a \\times -\\frac{\\partial \\phi}{\\partial \\theta} \\\\\n",
    "& =\\frac{3}{2} \\frac{G M_p}{a}\\left(\\frac{R}{a}\\right)^5 k \\sin 2\\varepsilon \\\\\n",
    "& =\\frac{3}{2} \\frac{G M_p}{a}\\left(\\frac{R}{a}\\right)^5 \\frac{k}{Q}\n",
    "\\end{aligned}"
   ]
  },
  {
   "cell_type": "markdown",
   "id": "b4e4405d-6f12-4647-af65-a2e42afbc865",
   "metadata": {},
   "source": [
    "$k$ is a love number the models the amount of surface deformation of the star. This is related to its rigidity and elastic modulus.\n",
    "\n",
    "$\\epsilon$ is the tidal lag angle which describes the phase difference between the star's rotation and its tidal bulge. This is determined by how the star responds to the gravitational driving force of the planet.\n",
    "\n",
    "We usually assume the tidal lag angle is a constant such that $sin(2\\epsilon)$ can be subsumed into a constant known as the tidal dissipation factor Q. It describes the ratio of energy dissipated to the peak energy stored in a single cycle of a forced harmonic osciallator.\n",
    "\n",
    "More often in exoplanet literature, $k/Q$ is combined into a single constant $Q'$ since we cannot separate out the physics due to rigidity with the physics due to tidal oscillation response for exoplanets."
   ]
  },
  {
   "cell_type": "markdown",
   "id": "a05f4e22-900e-4af6-815b-1fdd1eb3fd3e",
   "metadata": {},
   "source": [
    "2. The work done by the torque decreases the orbital energy of the planet:"
   ]
  },
  {
   "cell_type": "markdown",
   "id": "2f3a01a6-e1da-41b5-bbef-579c4ea9bdba",
   "metadata": {},
   "source": [
    "\\begin{aligned}\\dot{E}=T(\\omega-n)\\end{aligned}"
   ]
  },
  {
   "cell_type": "markdown",
   "id": "90824c19-29fa-4eab-8108-7578181b6a6f",
   "metadata": {},
   "source": [
    "3. Total energy of the system (which is not conserved due to heating/friction as the tidal bulge moves across the star):"
   ]
  },
  {
   "cell_type": "markdown",
   "id": "6376ced7-53b5-400b-ac20-b456e22971b7",
   "metadata": {},
   "source": [
    "\\begin{aligned}\n",
    "& E=\\frac{1}{2} I \\omega^2+\\frac{1}{2} \\frac{G M_* M}{a} \\\\\n",
    "& \\dot{E}=I \\omega \\dot{\\omega}+\\frac{1}{2} M_n^2 a \\dot{a}\n",
    "\\end{aligned}"
   ]
  },
  {
   "cell_type": "markdown",
   "id": "65679a08-8ae5-49e5-a9c0-fac646b3ae24",
   "metadata": {},
   "source": [
    "4. Total angular momentum of the system (which is conserved):"
   ]
  },
  {
   "cell_type": "markdown",
   "id": "e97bf8c1-fca6-4c00-8d57-32944cd601dd",
   "metadata": {},
   "source": [
    "\\begin{aligned}\n",
    "& L=I \\omega+M n a^2 \\\\\n",
    "& \\dot{L}=I \\dot{\\omega}+\\frac{1}{2} \\operatorname{Mna} \\dot{a}=0\n",
    "\\end{aligned}"
   ]
  },
  {
   "cell_type": "markdown",
   "id": "e5664d62-9b53-4dba-a958-17bfc12d318f",
   "metadata": {},
   "source": [
    "Combining these four equations yields the often quoted tidal decay equation:"
   ]
  },
  {
   "cell_type": "markdown",
   "id": "199b6ef5-d826-4bc4-b498-314f2bd60f4f",
   "metadata": {},
   "source": [
    "$$\n",
    "\\dot{a}=\\operatorname{sign}(\\omega-n) \\frac{3 k}{Q} \\frac{M}{M_*}\\left(\\frac{R}{a}\\right)^5 n a\n",
    "$$"
   ]
  },
  {
   "cell_type": "markdown",
   "id": "e6e2481d-0fbe-4542-be87-40466cfa3e44",
   "metadata": {},
   "source": [
    "This is the equation I have been basing my theoretical predictions on. However there's clearly a big flaw here. The Q term encompasses a lot of physics of how the star responds to a gravitational force, and is by **no means solely a property of the internal structure of the star.**"
   ]
  },
  {
   "cell_type": "markdown",
   "id": "d6e30bff-7c99-4a49-b5db-ff50e538dea8",
   "metadata": {},
   "source": [
    "The details of how Q is modelled is the interesting part. Typically the star's tidal response is modelled as a forced harmonic oscillator:"
   ]
  },
  {
   "cell_type": "markdown",
   "id": "bf5fd796-d992-4781-a593-6e036fd89f5c",
   "metadata": {},
   "source": [
    "$$\n",
    "\\frac{d^2 x}{d t^2}=-\\omega_0^2 x-\\frac{1}{\\tau} \\frac{d x}{d t}+\\frac{F_0}{m} \\cos \\omega t\n",
    "$$"
   ]
  },
  {
   "cell_type": "markdown",
   "id": "40c71f02-d21d-4d97-b64b-5c18363ce566",
   "metadata": {},
   "source": [
    "Where $\\omega$ is the frequency of the driving force i.e. the planetary orbital frequency, and $\\omega_{0}$ is the natural frequency of the star i.e. its rotational frequency."
   ]
  },
  {
   "cell_type": "markdown",
   "id": "80e45782-9a4f-484c-8e11-d48ae839550b",
   "metadata": {},
   "source": [
    "Which gives a solution of the form:"
   ]
  },
  {
   "cell_type": "markdown",
   "id": "b7231055-4337-41a2-8806-7d8f94e509e2",
   "metadata": {},
   "source": [
    "$$\n",
    "x=A \\cos (\\omega t+\\varepsilon)\n",
    "$$"
   ]
  },
  {
   "cell_type": "markdown",
   "id": "ed649465-abe6-45b7-8a34-9e7041975dd4",
   "metadata": {},
   "source": [
    "$$\n",
    "\\sin \\varepsilon=-\\frac{\\omega}{\\tau}\\left[\\left(\\omega_0^2-\\omega^2\\right)^2+\\left(\\frac{\\omega}{\\tau}\\right)^2\\right]^{-\\frac{1}{2}}\n",
    "$$"
   ]
  },
  {
   "cell_type": "markdown",
   "id": "2c6faac6-bfce-4f93-b60f-279236904965",
   "metadata": {},
   "source": [
    "If $\\left(\\frac{\\omega}{\\tau}\\right)^2 \\ll \\omega^2, \\omega_0^2 $:\n",
    "\n",
    "$$ \\sin \\varepsilon \\propto \\frac{1}{\\omega_0^2-\\omega^2}$$"
   ]
  },
  {
   "cell_type": "markdown",
   "id": "4f65b854-de32-4adb-bc1f-fa7325c2e130",
   "metadata": {},
   "source": [
    "If $\\omega^2 \\ll \\omega_0^2$:\n",
    "$$\\sin \\varepsilon=\\text { const. }$$\n"
   ]
  },
  {
   "cell_type": "markdown",
   "id": "58dffac7-00be-4beb-ba65-aaeed4063dc3",
   "metadata": {},
   "source": [
    "This means that to assume Q is constant is to assume that the natural frequency of the star (it's rotational speed) is much less than the orbital speed which is not true for systems like Kelt-1."
   ]
  },
  {
   "cell_type": "markdown",
   "id": "3596f7ff-2764-4a9d-8159-20996ca5f75c",
   "metadata": {},
   "source": [
    "#### What can we do about this?"
   ]
  },
  {
   "cell_type": "markdown",
   "id": "d4d4fd16-74f8-4b3f-8ffc-926bd18bf383",
   "metadata": {},
   "source": [
    "* Typically Q' is quoted around 10^5 or 10^6. Perhaps we could adjust these values to create a new \"angular velocity adjusted Q\" which is roughly constant. We could then re-run our theory with this new \"independent\" constant factor and take into account rotational velocities. Unfortunately rotational velocities of stars tend to be quite hard to measure and so very uncertain.\n",
    "* We could make use of this when trying to infer results from \"observed\" values of Q."
   ]
  },
  {
   "cell_type": "markdown",
   "id": "4c01a179-4737-4cab-8a25-ee4350c13755",
   "metadata": {},
   "source": [
    "Actually I'm not sure the above is correct - natural frequency of the star does not refer just to its rotational frequency, but also the internal properties that cause its tidal bulge to move non-instantaneously from one angle to the next."
   ]
  }
 ],
 "metadata": {
  "kernelspec": {
   "display_name": "Python 3 (ipykernel)",
   "language": "python",
   "name": "python3"
  },
  "language_info": {
   "codemirror_mode": {
    "name": "ipython",
    "version": 3
   },
   "file_extension": ".py",
   "mimetype": "text/x-python",
   "name": "python",
   "nbconvert_exporter": "python",
   "pygments_lexer": "ipython3",
   "version": "3.8.5"
  }
 },
 "nbformat": 4,
 "nbformat_minor": 5
}
