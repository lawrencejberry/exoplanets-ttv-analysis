{
 "cells": [
  {
   "cell_type": "markdown",
   "id": "51666fe4-4bf8-4402-b218-fee425b6d870",
   "metadata": {
    "jp-MarkdownHeadingCollapsed": true,
    "tags": []
   },
   "source": [
    "### Imports + tooling"
   ]
  },
  {
   "cell_type": "code",
   "execution_count": 1,
   "id": "905026e1-f915-41b7-baa8-9fbefbd723fc",
   "metadata": {},
   "outputs": [],
   "source": [
    "import pandas as pd\n",
    "import seaborn as sns\n",
    "import scipy as sp\n",
    "import numpy as np\n",
    "import math\n",
    "import re\n",
    "import matplotlib.pyplot as plt\n",
    "from matplotlib import rcParams, colors\n",
    "\n",
    "# figure size in inches\n",
    "rcParams['figure.figsize'] = 12,8\n",
    "pd.set_option('display.max_columns', None)\n",
    "pd.set_option('display.max_rows', None)\n",
    "\n",
    "def load_data(path):\n",
    "    metadata = []\n",
    "    with open(path) as f:\n",
    "        header = 0\n",
    "        while True:\n",
    "            line = next(f)\n",
    "            if line.startswith(\"#\"):\n",
    "                metadata.append(line)\n",
    "                header += 1\n",
    "            else:\n",
    "                break\n",
    "                \n",
    "    column_name_map = {k: v for k, v in re.findall(\"COLUMN\\s+(\\w+):\\s+([^,]+)\", \"\".join(metadata))}\n",
    "    df = pd.read_csv(path, skiprows=header, low_memory=False)\n",
    "    df = df.rename(columns=column_name_map)\n",
    "\n",
    "    return df"
   ]
  },
  {
   "cell_type": "markdown",
   "id": "8992cb24-4dc3-4aa1-a253-9f48cf7e6262",
   "metadata": {
    "jp-MarkdownHeadingCollapsed": true,
    "tags": []
   },
   "source": [
    "### Load data"
   ]
  },
  {
   "cell_type": "code",
   "execution_count": 2,
   "id": "85d2e4cb-5c00-4faa-a7d6-8a2ce4995ce8",
   "metadata": {},
   "outputs": [
    {
     "data": {
      "text/plain": [
       "5241"
      ]
     },
     "execution_count": 2,
     "metadata": {},
     "output_type": "execute_result"
    }
   ],
   "source": [
    "df = load_data(\"./data/planetary_systems_composite.csv\")\n",
    "len(df.index)"
   ]
  },
  {
   "cell_type": "code",
   "execution_count": 5,
   "id": "b2e8bed6-0a80-4930-9ebe-7e4b79483761",
   "metadata": {},
   "outputs": [],
   "source": [
    "df.to_csv(\"./data/planetary_data.csv\")"
   ]
  },
  {
   "cell_type": "markdown",
   "id": "6e7d56b2-6058-4fde-9638-6680c012e524",
   "metadata": {
    "tags": []
   },
   "source": [
    "### Theoretical predicted decay (ignoring effect due to eccentricity)"
   ]
  },
  {
   "cell_type": "markdown",
   "id": "a584a48b-cec7-4ebd-92cd-efb2b8815e20",
   "metadata": {},
   "source": [
    "We assume a simple tidal decay caused only by tides induced on the star by the planet. This simplification means our differential equation is more easily modellable. In future I should work out how to fit a model to the full set of differential equations."
   ]
  },
  {
   "cell_type": "code",
   "execution_count": 8,
   "id": "1a550e7c-abc8-4b04-bd48-b59a06fb6238",
   "metadata": {},
   "outputs": [],
   "source": [
    "earth_radius = 6.378e6  # m\n",
    "earth_mass = 5.972e24  # kg\n",
    "solar_radius = 6.957e8 # m\n",
    "solar_mass = 1.989e30  # kg\n",
    "\n",
    "a = df['Orbit Semi-Major Axis [au]'] * sp.constants.au\n",
    "Rs = df['Stellar Radius [Solar Radius]'] * solar_radius\n",
    "Rp = df['Planet Radius [Earth Radius]'] * earth_radius\n",
    "Mp = df['Planet Mass or Mass*sin(i) [Earth Mass]'] * earth_mass\n",
    "Ms = df['Stellar Mass [Solar mass]'] * solar_mass\n",
    "\n",
    "a_l = ((df['Orbit Semi-Major Axis [au]'] + df['Orbit Semi-Major Axis Lower Unc. [au]']) * sp.constants.au).fillna(a)\n",
    "Rs_l = ((df['Stellar Radius [Solar Radius]'] + df['Stellar Radius Lower Unc. [Solar Radius]']) * solar_radius).fillna(Rs)\n",
    "Rp_l = ((df['Planet Radius [Earth Radius]'] + df['Planet Radius Lower Unc. [Earth Radius]']) * earth_radius).fillna(Rs)\n",
    "Mp_l = ((df['Planet Mass or Mass*sin(i) [Earth Mass]'] + df['Planet Mass or Mass*sin(i) [Earth Mass] Lower Unc.']) * earth_mass).fillna(Mp)\n",
    "Ms_l = ((df['Stellar Mass [Solar mass]'] + df['Stellar Mass Lower Unc. [Solar mass]']) * solar_mass).fillna(Ms)\n",
    "\n",
    "a_u = ((df['Orbit Semi-Major Axis [au]'] + df['Orbit Semi-Major Axis Upper Unc. [au]']) * sp.constants.au).fillna(a)\n",
    "Rs_u = ((df['Stellar Radius [Solar Radius]'] + df['Stellar Radius Upper Unc. [Solar Radius]']) * solar_radius).fillna(Rs)\n",
    "Rp_u = ((df['Planet Radius [Earth Radius]'] + df['Planet Radius Upper Unc. [Earth Radius]']) * earth_radius).fillna(Rs)\n",
    "Mp_u = ((df['Planet Mass or Mass*sin(i) [Earth Mass]'] + df['Planet Mass or Mass*sin(i) [Earth Mass] Upper Unc.']) * earth_mass).fillna(Mp)\n",
    "Ms_u = ((df['Stellar Mass [Solar mass]'] + df['Stellar Mass Upper Unc. [Solar mass]']) * solar_mass).fillna(Ms)\n",
    "\n",
    "Qs = 10 ** 5.5\n",
    "\n",
    "neg_da_dt = 9/2 * ((sp.constants.G / Ms) ** 0.5) * ((Rs ** 5 * Mp) / Qs) * (a ** -5.5)\n",
    "neg_da_dt_lower_bound = 9/2 * ((sp.constants.G / Ms_u) ** 0.5) * ((Rs_l ** 5 * Mp_l) / Qs) * (a_u ** -5.5)\n",
    "neg_da_dt_upper_bound = 9/2 * ((sp.constants.G / Ms_l) ** 0.5) * ((Rs_u ** 5 * Mp_u) / Qs) * (a_l ** -5.5)\n",
    "lower_bound_error = neg_da_dt - neg_da_dt_lower_bound\n",
    "upper_bound_error = neg_da_dt_upper_bound - neg_da_dt\n",
    "neg_da_dt = neg_da_dt.rename(\"-da/dt [m/s]\")\n",
    "\n",
    "df[\"-da/dt [m/s]\"] = neg_da_dt\n",
    "df[\"-dP/dt [s/s]\"] = 3 * sp.constants.pi * np.sqrt((df[\"Orbit Semi-Major Axis [au]\"] * sp.constants.au) / (sp.constants.G * df[\"Stellar Mass [Solar mass]\"] * solar_mass)) * df[\"-da/dt [m/s]\"]\n",
    "df[\"-dP/dE [s/epoch]\"] = df[\"-dP/dt [s/s]\"] * df[\"Orbital Period [days]\"] * 24 * 60 * 60\n",
    "df[\"-dP/dE [ms/epoch]\"] = df[\"-dP/dE [s/epoch]\"] * 1000\n",
    "df[\"-dP/dE error [ms/epoch]\"] = 0.5 * (neg_da_dt_upper_bound - lower_bound_error) *  3 * sp.constants.pi * np.sqrt((df[\"Orbit Semi-Major Axis [au]\"] * sp.constants.au) / (sp.constants.G * df[\"Stellar Mass [Solar mass]\"] * solar_mass))  * df[\"Orbital Period [days]\"] * 24 * 60 * 60 * 1000\n",
    "\n",
    "df[\"TTV after 10 years [s]\"] = 0.5 * df[\"-dP/dE [s/epoch]\"] * ((10 * 365 / df[\"Orbital Period [days]\"]) ** 2)"
   ]
  },
  {
   "cell_type": "code",
   "execution_count": 9,
   "id": "af5919da-2cd7-41b0-ab55-2f8eb90ce622",
   "metadata": {},
   "outputs": [
    {
     "name": "stdout",
     "output_type": "stream",
     "text": [
      "Out of 5241 planets we have data to compute an estimated decay for 4760\n"
     ]
    }
   ],
   "source": [
    "print(f\"Out of {len(neg_da_dt.index)} planets we have data to compute an estimated decay for {neg_da_dt.notna().sum()}\")"
   ]
  },
  {
   "cell_type": "code",
   "execution_count": 10,
   "id": "97c8d2b5-a04e-4da1-970a-f71892cc3170",
   "metadata": {},
   "outputs": [
    {
     "data": {
      "text/plain": [
       "Text(0.5, 0, 'Predicted TTV after 10 years [s]')"
      ]
     },
     "execution_count": 10,
     "metadata": {},
     "output_type": "execute_result"
    },
    {
     "data": {
      "image/png": "[encoded data removed]",
      "text/plain": [
       "<Figure size 1200x800 with 1 Axes>"
      ]
     },
     "metadata": {},
     "output_type": "display_data"
    }
   ],
   "source": [
    "ax = df[\"TTV after 10 years [s]\"].plot.hist(bins=100, logy=True, logx=True)\n",
    "ax.set_xlabel(\"Predicted TTV after 10 years [s]\")"
   ]
  },
  {
   "cell_type": "code",
   "execution_count": 11,
   "id": "d98d15d6-23df-4a58-9443-41578b57ecb7",
   "metadata": {
    "tags": []
   },
   "outputs": [
    {
     "data": {
      "text/html": [
       "<div>\n",
       "<style scoped>\n",
       "    .dataframe tbody tr th:only-of-type {\n",
       "        vertical-align: middle;\n",
       "    }\n",
       "\n",
       "    .dataframe tbody tr th {\n",
       "        vertical-align: top;\n",
       "    }\n",
       "\n",
       "    .dataframe thead th {\n",
       "        text-align: right;\n",
       "    }\n",
       "</style>\n",
       "<table border=\"1\" class=\"dataframe\">\n",
       "  <thead>\n",
       "    <tr style=\"text-align: right;\">\n",
       "      <th></th>\n",
       "      <th>Planet Name</th>\n",
       "      <th>TTV after 10 years [s]</th>\n",
       "    </tr>\n",
       "  </thead>\n",
       "  <tbody>\n",
       "    <tr>\n",
       "      <th>4855</th>\n",
       "      <td>TOI-2109 b</td>\n",
       "      <td>6355.366553</td>\n",
       "    </tr>\n",
       "    <tr>\n",
       "      <th>1746</th>\n",
       "      <td>KELT-1 b</td>\n",
       "      <td>1974.679104</td>\n",
       "    </tr>\n",
       "    <tr>\n",
       "      <th>5071</th>\n",
       "      <td>WASP-18 b</td>\n",
       "      <td>1587.607305</td>\n",
       "    </tr>\n",
       "    <tr>\n",
       "      <th>1435</th>\n",
       "      <td>K2-22 b</td>\n",
       "      <td>1090.465686</td>\n",
       "    </tr>\n",
       "    <tr>\n",
       "      <th>4181</th>\n",
       "      <td>Kepler-718 b</td>\n",
       "      <td>928.791883</td>\n",
       "    </tr>\n",
       "    <tr>\n",
       "      <th>1752</th>\n",
       "      <td>KELT-16 b</td>\n",
       "      <td>490.040308</td>\n",
       "    </tr>\n",
       "    <tr>\n",
       "      <th>5001</th>\n",
       "      <td>WASP-103 b</td>\n",
       "      <td>424.754630</td>\n",
       "    </tr>\n",
       "    <tr>\n",
       "      <th>1688</th>\n",
       "      <td>K2-52 b</td>\n",
       "      <td>423.064111</td>\n",
       "    </tr>\n",
       "    <tr>\n",
       "      <th>4716</th>\n",
       "      <td>OGLE-TR-56 b</td>\n",
       "      <td>325.974719</td>\n",
       "    </tr>\n",
       "    <tr>\n",
       "      <th>1311</th>\n",
       "      <td>K2-137 b</td>\n",
       "      <td>302.819737</td>\n",
       "    </tr>\n",
       "    <tr>\n",
       "      <th>5014</th>\n",
       "      <td>WASP-12 b</td>\n",
       "      <td>282.050044</td>\n",
       "    </tr>\n",
       "    <tr>\n",
       "      <th>384</th>\n",
       "      <td>HATS-18 b</td>\n",
       "      <td>251.960043</td>\n",
       "    </tr>\n",
       "    <tr>\n",
       "      <th>3876</th>\n",
       "      <td>Kepler-493 b</td>\n",
       "      <td>245.817256</td>\n",
       "    </tr>\n",
       "    <tr>\n",
       "      <th>440</th>\n",
       "      <td>HATS-70 b</td>\n",
       "      <td>228.501495</td>\n",
       "    </tr>\n",
       "    <tr>\n",
       "      <th>295</th>\n",
       "      <td>GPX-1 b</td>\n",
       "      <td>225.537933</td>\n",
       "    </tr>\n",
       "  </tbody>\n",
       "</table>\n",
       "</div>"
      ],
      "text/plain": [
       "       Planet Name  TTV after 10 years [s]\n",
       "4855    TOI-2109 b             6355.366553\n",
       "1746      KELT-1 b             1974.679104\n",
       "5071     WASP-18 b             1587.607305\n",
       "1435       K2-22 b             1090.465686\n",
       "4181  Kepler-718 b              928.791883\n",
       "1752     KELT-16 b              490.040308\n",
       "5001    WASP-103 b              424.754630\n",
       "1688       K2-52 b              423.064111\n",
       "4716  OGLE-TR-56 b              325.974719\n",
       "1311      K2-137 b              302.819737\n",
       "5014     WASP-12 b              282.050044\n",
       "384      HATS-18 b              251.960043\n",
       "3876  Kepler-493 b              245.817256\n",
       "440      HATS-70 b              228.501495\n",
       "295        GPX-1 b              225.537933"
      ]
     },
     "execution_count": 11,
     "metadata": {},
     "output_type": "execute_result"
    }
   ],
   "source": [
    "df[[\"Planet Name\", \"TTV after 10 years [s]\"]].sort_values(by=\"TTV after 10 years [s]\", ascending=False).head(15)"
   ]
  },
  {
   "cell_type": "code",
   "execution_count": 12,
   "id": "fb9209a1-6970-4d47-892f-2827da709bde",
   "metadata": {},
   "outputs": [],
   "source": [
    "df.to_csv(\"./results/3_theoretical_decay.csv\")"
   ]
  },
  {
   "cell_type": "markdown",
   "id": "ddb67247-3daf-4832-8e04-30537605aa9e",
   "metadata": {
    "tags": []
   },
   "source": [
    "### Constructing an observability metric"
   ]
  },
  {
   "cell_type": "markdown",
   "id": "951f934c-e1b1-4776-80a4-3b131f285ef9",
   "metadata": {
    "tags": []
   },
   "source": [
    "#### What do we mean by an observability metric?\n",
    "\n",
    "Ranking planets by theorised decay is great, but doesn't account for any difficulties we might have in observing these transits. Instead I'm going to define an observability metric: the time required to confirm or reject orbital decay to a given statistical signficance level.\n",
    "\n",
    "We will combine our predicted decay with some knowledge of the measurement uncertainties to estimate the most promising candidates to evaluate over a 10 year period.\n",
    "\n",
    "#### What should an observability significance metric encode?\n",
    "\n",
    "The observability metric we come up with should satisy five key properties. A candidate planet should be ranked as more \"observable\" if for this planet:\n",
    "\n",
    "1. The equations of motion of tidal decay predict a larger decay rate.\n",
    "2. Transit times are measured with less uncertainty.\n",
    "3. There is a greater range of time between the first and last observations.\n",
    "4. More transits are recorded.\n",
    "\n",
    "We must also take care to ensure the uncertainty in the reference time is correctly accounted for. Existing literature often fails to account for the fact that $T_{0}$ is also a random variable and theresfore should be fitted too. If not, you risk biasing the model with an arbitrary prior.\n",
    "\n",
    "#### Idea: a joint Bayesian posterior model:\n",
    "\n",
    "One issue with the current methods in the literature is they fit separate models rather than a joint model. Comparisons must then be made based on the distribution of residuals (e.g. chi-squared or BIC) - this metric is dimensionless and hard to interpret. Worse still, each model has a different number of degrees of freedom, so their residuals aren't directly comparable.\n",
    "\n",
    "My assertion is that what we really care about isn't which model has smaller residuals under the data, but rather - what is the posterior distribution over all the parameters that might determine the dynamics of the system? i.e. given a full set of parameters that together describe all the possible ways the system can behave, what is a posteriori estimate for each of these variables. The mean and variance of these distributions will encode how \"well\" a particular physical phenomena e.g. decay, precession etc. fits the given situation.\n",
    "\n",
    "For example, if precession is very apparently occuring but not decay, we should see a large absolute mean and small variance on precession parameters, but small mean on decay parameters.\n",
    "\n",
    "I propose a new modelling approach where we jointly fit the models we want to investigate. In the process we identify any parameters that should be the same under either model, like T0 and P0. It doesn't make physical sense that different models should fit the same parameters with different values. You know that there is a single reference transit time and that reference time should be the same regardless of the model so it shouldn't be allowed to vary.\n",
    "\n",
    "We can construct a single model which reflects all possible configurations of the dynamics of the planetary system and fit once to all the necessary parameters. If these different scenarios are for whatever reason \"physically incompatible\" e.g. maybe you can't have apsidal precession AND orbital decay at the same time, then you simply enforce that in your prior on the parameters.\n",
    "\n",
    "So how do we do we this? To start with, let's set up as a simple Bayesian model for orbital decay (no pression or other dynamics) assuming only two transits are observed at a time $\\Delta T$ apart. Measurement errors are assumed to be normally distributed and IID.\n",
    "\n",
    "#### Measurements:\n",
    "\n",
    "Each individual transit time is a random variable with mean $T$ (a function of epoch E given by the hypothesised model) and a known measurement error $\\sigma^{2}$:\n",
    "\n",
    "$\\hat{T}(E) \\sim N(T(E), \\sigma^{2})$. \n",
    "\n",
    "Differences between transit times are therefore also normally distributed but with twice the variance:\n",
    "\n",
    "$\\Delta \\hat{T}(E_{1},E_{2}) = \\hat{T}(E_{2})-\\hat{T}(E_{1}) \\sim N(T(E_{2})-T(E_{1}), 2\\sigma^{2})$\n",
    "\n",
    "A single transit timing variation between two models (denoted 1 and 2) is therefore distributed as follows:\n",
    "\n",
    "$\\hat{TTV}(E_{1},E_{2}) = \\Delta \\hat{T}_{2} - \\Delta \\hat{T}_{1} \\sim N((T_{2}(E_{2})-T_{2}(E_{1}))-(T_{1}(E_{2})-T_{1}(E_{1})), 4\\sigma^{2})$\n",
    "\n",
    "The transit time variation is what we \"measure\".\n",
    "\n",
    "#### Model:\n",
    "\n",
    "Now let us makes this concrete by constructing the two models $T_{1}$ and $T_{2}$ that we wish to compare:\n",
    "\n",
    "$\\frac{dt}{dE} = P \\implies T(E) = T_{0} + \\int_{0}^{E}P(E')dE'$\n",
    "\n",
    "##### Model 1: constant period\n",
    "\n",
    "$P(E) = P_{0} \\implies T_{1}(E) = T_{0} + P_{0}E$\n",
    "\n",
    "##### Model 2: constant period decay per orbit\n",
    "\n",
    "$P(E) = P_{0} + \\frac{dP}{dE}E \\implies T_{2}(E) = T_{0} + P_{0}E + \\frac{1}{2}\\frac{dP}{dE}E^2$\n",
    "\n",
    "#### Likelihood:\n",
    "\n",
    "Substituting these models into our hypothesised TTV distribution and taking $E_{1} = 0$ and $E_{2} = E$:\n",
    "\n",
    "$T_{1}(E_{1}) = T_{1}(0) = T_{0}$\n",
    "\n",
    "$T_{1}(E_{2}) = T_{1}(E) = T_{0} + P_{0}E$\n",
    "\n",
    "$T_{2}(E_{1}) = T_{2}(0) = T_{0}$\n",
    "\n",
    "$T_{2}(E_{2}) = T_{2}(E) = T_{0} + P_{0}E + \\frac{1}{2}\\frac{dP}{dE}E^2$\n",
    "\n",
    "Enforcing that the reference time and constant period parameters are equal in both models:\n",
    "\n",
    "$\\hat{TTV}(E_{1},E_{2}) = \\hat{TTV}(0,E) \\sim N(\\frac{1}{2}\\frac{dP}{dE}E^2, 4\\sigma^{2})$\n",
    "\n",
    "The resulting likelihood of the TTV observations given the decay rate is:\n",
    "\n",
    "$P(TTV|\\frac{dP}{dE}) \\sim N(\\frac{1}{2}\\frac{dP}{dE}E^2, 4\\sigma^{2})$"
   ]
  },
  {
   "cell_type": "markdown",
   "id": "ccf185f8-1d1d-419f-8f4d-9ff4663bb0b5",
   "metadata": {},
   "source": [
    "For a close-in massive hot Jupiter the likelihood could look something like:"
   ]
  },
  {
   "cell_type": "code",
   "execution_count": 22,
   "id": "f82d2add-0175-4fdd-b44a-3959add739c4",
   "metadata": {},
   "outputs": [
    {
     "data": {
      "image/png": "[encoded data removed]",
      "text/plain": [
       "<Figure size 1200x800 with 1 Axes>"
      ]
     },
     "metadata": {},
     "output_type": "display_data"
    }
   ],
   "source": [
    "mu = 0.5 * -0.05e-3 * (1000**2)  # predicted decay after 1000 orbits \n",
    "variance = 4 * (60**2)  # 1 standard deviation uncertainty ~ 60s\n",
    "sigma = math.sqrt(variance)\n",
    "x = np.linspace(mu - 3*sigma, mu + 3*sigma, 100)\n",
    "plt.plot(x, sp.stats.norm.pdf(x, mu, sigma))\n",
    "x_fill = np.linspace(mu - 3*sigma, 0, 100)\n",
    "plt.fill_between(x_fill, sp.stats.norm.pdf(x_fill, mu, sigma), hatch=\"/\", alpha=0)\n",
    "plt.axvline(mu, c=\"green\")\n",
    "plt.axvline(0, c=\"red\")\n",
    "plt.xlabel(\"$TTV$ [s]\")\n",
    "plt.ylabel(\"$P(TTV|dP/dE)$\")\n",
    "plt.show()"
   ]
  },
  {
   "cell_type": "markdown",
   "id": "536f155d-b536-4464-a49e-d6db87c2c96a",
   "metadata": {},
   "source": [
    "#### Prior:\n",
    "\n",
    "We have no reason to assume anything about the decay rate so let's take a normal prior with arbitrarily large variance to make an effectively \"flat\" prior. Using a normal prior makes our calculations simpler.\n",
    "\n",
    "$P(\\frac{dP}{dE}) \\sim N(\\mu_{0}, \\sigma_{0}) = N(0, \\infty)$\n",
    "\n",
    "#### Posterior:\n",
    "\n",
    "We can find the posterior by multiplying the prior by the likelihood and completing the square in the exponent. The resulting distribution is:\n",
    "\n",
    "$P(\\frac{dP}{dE}|TTV) \\sim N(\\frac{2TTV}{E^2}, \\frac{4\\sigma^2}{E^4})$\n",
    "\n",
    "Our estimate of the orbital decay rate is simply the rate we infer from the TTV measurement, with some variance that decreases with the number of epochs over which we measure.\n",
    "\n",
    "\n",
    "#### Metric:\n",
    "\n",
    "We can construct an observability metric out of this by constraining the CDF of the posterior distribution to some significance level. For example. to be 97.5% confident that we have observed decay, we want:\n",
    "\n",
    "$P(\\frac{dP}{dE}|TTV \\lt 0) = \\frac{1}{2}[1+\\mathrm{erf}(\\frac{-\\hat{\\frac{dP}{dE}} E^2}{\\sqrt{8}\\sigma})] = 0.975$"
   ]
  },
  {
   "cell_type": "markdown",
   "id": "5372d5f6-c5c1-4ada-b506-a1d22e3fa9d1",
   "metadata": {},
   "source": [
    "We can invert this equation to find $E$, the number of orbits required before we should be able to observe orbital decay given a theorised $\\frac{dP}{dE}$ and known 1 standard-deviation measurement uncertainties $\\sigma$:\n",
    "\n",
    "$E = \\sqrt{-{\\hat{\\frac{dE}{dP}}} * \\sqrt{8}\\sigma * \\mathrm{erf}^{-1}(0.95)}$"
   ]
  },
  {
   "cell_type": "markdown",
   "id": "f2e247c0-d680-4044-8eaa-1ac529ac0fb0",
   "metadata": {
    "tags": []
   },
   "source": [
    "Converting into a time-range of constant period observations we obtain the time range required to observe statistically significant orbital decay using only two transit measurements:\n",
    "\n",
    "$\\Delta T = P_{0}E = P_{0} \\sqrt{-{\\hat{\\frac{dE}{dP}}} * \\sqrt{8}\\sigma * \\mathrm{erf}^{-1}(0.95)}$"
   ]
  },
  {
   "cell_type": "markdown",
   "id": "54162c44-e1c1-4980-89ff-f7ce2c7931f4",
   "metadata": {},
   "source": [
    "For Wasp-12b this works out to:"
   ]
  },
  {
   "cell_type": "code",
   "execution_count": 23,
   "id": "8234eb9b-f17e-4246-801e-6656b443314b",
   "metadata": {},
   "outputs": [
    {
     "data": {
      "text/plain": [
       "6.257695669686456"
      ]
     },
     "execution_count": 23,
     "metadata": {},
     "output_type": "execute_result"
    }
   ],
   "source": [
    "P0 = 1.091420 * 24 * 60 * 60\n",
    "dp_de = -0.053703e-3\n",
    "sigma = 60  # assumed\n",
    "\n",
    "delta_T = P0 * math.sqrt(-(1/dp_de) * math.sqrt(8) * sigma * sp.special.erfinv(0.95))\n",
    "delta_T / (60 * 60 * 24 * 365)"
   ]
  },
  {
   "cell_type": "markdown",
   "id": "ff35055d-5f43-49ed-9489-755f36ac6407",
   "metadata": {},
   "source": [
    "6.3 years for 97.5% significance - this seems reasonable given existing research has confirmed the decay with around 10 years worth of data."
   ]
  },
  {
   "cell_type": "markdown",
   "id": "4b698fc9-934e-440c-a1fb-af5fe15f8147",
   "metadata": {
    "tags": []
   },
   "source": [
    "### Ranking all planets by observability of orbital decay"
   ]
  },
  {
   "cell_type": "markdown",
   "id": "d52d1f9d-4be2-42d4-84e9-3e90e778560f",
   "metadata": {},
   "source": [
    "Now let's use this metric to create a new ranking of which planets should be most observable, assuming a 60s 1-sigma uncertainty in transit times."
   ]
  },
  {
   "cell_type": "code",
   "execution_count": 24,
   "id": "0a620f63-bedb-4cfa-8edd-0bbe9ce950d7",
   "metadata": {
    "tags": []
   },
   "outputs": [
    {
     "data": {
      "text/html": [
       "<div>\n",
       "<style scoped>\n",
       "    .dataframe tbody tr th:only-of-type {\n",
       "        vertical-align: middle;\n",
       "    }\n",
       "\n",
       "    .dataframe tbody tr th {\n",
       "        vertical-align: top;\n",
       "    }\n",
       "\n",
       "    .dataframe thead th {\n",
       "        text-align: right;\n",
       "    }\n",
       "</style>\n",
       "<table border=\"1\" class=\"dataframe\">\n",
       "  <thead>\n",
       "    <tr style=\"text-align: right;\">\n",
       "      <th></th>\n",
       "      <th>Planet Name</th>\n",
       "      <th>Required Delta T [years]</th>\n",
       "    </tr>\n",
       "  </thead>\n",
       "  <tbody>\n",
       "    <tr>\n",
       "      <th>4855</th>\n",
       "      <td>TOI-2109 b</td>\n",
       "      <td>1.360283</td>\n",
       "    </tr>\n",
       "    <tr>\n",
       "      <th>1746</th>\n",
       "      <td>KELT-1 b</td>\n",
       "      <td>2.440346</td>\n",
       "    </tr>\n",
       "    <tr>\n",
       "      <th>5071</th>\n",
       "      <td>WASP-18 b</td>\n",
       "      <td>2.721624</td>\n",
       "    </tr>\n",
       "    <tr>\n",
       "      <th>1435</th>\n",
       "      <td>K2-22 b</td>\n",
       "      <td>3.283928</td>\n",
       "    </tr>\n",
       "    <tr>\n",
       "      <th>4181</th>\n",
       "      <td>Kepler-718 b</td>\n",
       "      <td>3.558283</td>\n",
       "    </tr>\n",
       "    <tr>\n",
       "      <th>1752</th>\n",
       "      <td>KELT-16 b</td>\n",
       "      <td>4.898733</td>\n",
       "    </tr>\n",
       "    <tr>\n",
       "      <th>5001</th>\n",
       "      <td>WASP-103 b</td>\n",
       "      <td>5.261755</td>\n",
       "    </tr>\n",
       "    <tr>\n",
       "      <th>1688</th>\n",
       "      <td>K2-52 b</td>\n",
       "      <td>5.272257</td>\n",
       "    </tr>\n",
       "    <tr>\n",
       "      <th>4716</th>\n",
       "      <td>OGLE-TR-56 b</td>\n",
       "      <td>6.006310</td>\n",
       "    </tr>\n",
       "    <tr>\n",
       "      <th>1311</th>\n",
       "      <td>K2-137 b</td>\n",
       "      <td>6.231715</td>\n",
       "    </tr>\n",
       "    <tr>\n",
       "      <th>5014</th>\n",
       "      <td>WASP-12 b</td>\n",
       "      <td>6.457086</td>\n",
       "    </tr>\n",
       "    <tr>\n",
       "      <th>384</th>\n",
       "      <td>HATS-18 b</td>\n",
       "      <td>6.831779</td>\n",
       "    </tr>\n",
       "    <tr>\n",
       "      <th>3876</th>\n",
       "      <td>Kepler-493 b</td>\n",
       "      <td>6.916613</td>\n",
       "    </tr>\n",
       "    <tr>\n",
       "      <th>440</th>\n",
       "      <td>HATS-70 b</td>\n",
       "      <td>7.173897</td>\n",
       "    </tr>\n",
       "    <tr>\n",
       "      <th>295</th>\n",
       "      <td>GPX-1 b</td>\n",
       "      <td>7.220876</td>\n",
       "    </tr>\n",
       "  </tbody>\n",
       "</table>\n",
       "</div>"
      ],
      "text/plain": [
       "       Planet Name  Required Delta T [years]\n",
       "4855    TOI-2109 b                  1.360283\n",
       "1746      KELT-1 b                  2.440346\n",
       "5071     WASP-18 b                  2.721624\n",
       "1435       K2-22 b                  3.283928\n",
       "4181  Kepler-718 b                  3.558283\n",
       "1752     KELT-16 b                  4.898733\n",
       "5001    WASP-103 b                  5.261755\n",
       "1688       K2-52 b                  5.272257\n",
       "4716  OGLE-TR-56 b                  6.006310\n",
       "1311      K2-137 b                  6.231715\n",
       "5014     WASP-12 b                  6.457086\n",
       "384      HATS-18 b                  6.831779\n",
       "3876  Kepler-493 b                  6.916613\n",
       "440      HATS-70 b                  7.173897\n",
       "295        GPX-1 b                  7.220876"
      ]
     },
     "execution_count": 24,
     "metadata": {},
     "output_type": "execute_result"
    }
   ],
   "source": [
    "P0 = df[\"Orbital Period [days]\"] * 24 * 60 * 60\n",
    "dp_de = -df[\"-dP/dE [s/epoch]\"]\n",
    "sigma = 60\n",
    "\n",
    "df[\"Required Delta T [years]\"] = P0 * np.sqrt(-(1/dp_de) * math.sqrt(8) * sigma * sp.special.erfinv(0.95))  / (60 * 60 * 24 * 365)\n",
    "df[[\"Planet Name\", \"Required Delta T [years]\"]].sort_values(by=\"Required Delta T [years]\", ascending=True).head(15)"
   ]
  },
  {
   "cell_type": "markdown",
   "id": "71d8ea95-6101-48f0-989c-3fec908523b5",
   "metadata": {},
   "source": [
    "Instead of assuming 60s transit time uncertainties, use the transit midpoint uncertainty specified in the Exoplanet Archive:"
   ]
  },
  {
   "cell_type": "code",
   "execution_count": 25,
   "id": "762b2d23-6aa2-40a9-b7c8-3dc8b0c34c57",
   "metadata": {
    "tags": []
   },
   "outputs": [
    {
     "data": {
      "text/html": [
       "<div>\n",
       "<style scoped>\n",
       "    .dataframe tbody tr th:only-of-type {\n",
       "        vertical-align: middle;\n",
       "    }\n",
       "\n",
       "    .dataframe tbody tr th {\n",
       "        vertical-align: top;\n",
       "    }\n",
       "\n",
       "    .dataframe thead th {\n",
       "        text-align: right;\n",
       "    }\n",
       "</style>\n",
       "<table border=\"1\" class=\"dataframe\">\n",
       "  <thead>\n",
       "    <tr style=\"text-align: right;\">\n",
       "      <th></th>\n",
       "      <th>Planet Name</th>\n",
       "      <th>Required Delta T [years]</th>\n",
       "    </tr>\n",
       "  </thead>\n",
       "  <tbody>\n",
       "    <tr>\n",
       "      <th>4855</th>\n",
       "      <td>TOI-2109 b</td>\n",
       "      <td>0.396494</td>\n",
       "    </tr>\n",
       "    <tr>\n",
       "      <th>4181</th>\n",
       "      <td>Kepler-718 b</td>\n",
       "      <td>1.028338</td>\n",
       "    </tr>\n",
       "    <tr>\n",
       "      <th>371</th>\n",
       "      <td>HAT-P-7 b</td>\n",
       "      <td>1.287505</td>\n",
       "    </tr>\n",
       "    <tr>\n",
       "      <th>5071</th>\n",
       "      <td>WASP-18 b</td>\n",
       "      <td>1.423594</td>\n",
       "    </tr>\n",
       "    <tr>\n",
       "      <th>5014</th>\n",
       "      <td>WASP-12 b</td>\n",
       "      <td>1.549701</td>\n",
       "    </tr>\n",
       "    <tr>\n",
       "      <th>1831</th>\n",
       "      <td>KOI-13 b</td>\n",
       "      <td>1.861488</td>\n",
       "    </tr>\n",
       "    <tr>\n",
       "      <th>1435</th>\n",
       "      <td>K2-22 b</td>\n",
       "      <td>2.280853</td>\n",
       "    </tr>\n",
       "    <tr>\n",
       "      <th>4233</th>\n",
       "      <td>Kepler-76 b</td>\n",
       "      <td>2.373871</td>\n",
       "    </tr>\n",
       "    <tr>\n",
       "      <th>1752</th>\n",
       "      <td>KELT-16 b</td>\n",
       "      <td>2.562370</td>\n",
       "    </tr>\n",
       "    <tr>\n",
       "      <th>384</th>\n",
       "      <td>HATS-18 b</td>\n",
       "      <td>3.279254</td>\n",
       "    </tr>\n",
       "    <tr>\n",
       "      <th>388</th>\n",
       "      <td>HATS-24 b</td>\n",
       "      <td>3.376878</td>\n",
       "    </tr>\n",
       "    <tr>\n",
       "      <th>1767</th>\n",
       "      <td>KELT-9 b</td>\n",
       "      <td>3.609311</td>\n",
       "    </tr>\n",
       "    <tr>\n",
       "      <th>3862</th>\n",
       "      <td>Kepler-485 b</td>\n",
       "      <td>3.865640</td>\n",
       "    </tr>\n",
       "    <tr>\n",
       "      <th>4607</th>\n",
       "      <td>NGTS-10 b</td>\n",
       "      <td>3.984110</td>\n",
       "    </tr>\n",
       "    <tr>\n",
       "      <th>4716</th>\n",
       "      <td>OGLE-TR-56 b</td>\n",
       "      <td>4.013006</td>\n",
       "    </tr>\n",
       "  </tbody>\n",
       "</table>\n",
       "</div>"
      ],
      "text/plain": [
       "       Planet Name  Required Delta T [years]\n",
       "4855    TOI-2109 b                  0.396494\n",
       "4181  Kepler-718 b                  1.028338\n",
       "371      HAT-P-7 b                  1.287505\n",
       "5071     WASP-18 b                  1.423594\n",
       "5014     WASP-12 b                  1.549701\n",
       "1831      KOI-13 b                  1.861488\n",
       "1435       K2-22 b                  2.280853\n",
       "4233   Kepler-76 b                  2.373871\n",
       "1752     KELT-16 b                  2.562370\n",
       "384      HATS-18 b                  3.279254\n",
       "388      HATS-24 b                  3.376878\n",
       "1767      KELT-9 b                  3.609311\n",
       "3862  Kepler-485 b                  3.865640\n",
       "4607     NGTS-10 b                  3.984110\n",
       "4716  OGLE-TR-56 b                  4.013006"
      ]
     },
     "execution_count": 25,
     "metadata": {},
     "output_type": "execute_result"
    }
   ],
   "source": [
    "P0 = df[\"Orbital Period [days]\"] * 24 * 60 * 60\n",
    "dp_de = -df[\"-dP/dE [s/epoch]\"]\n",
    "sigma = 0.5 * (df[\"Transit Midpoint Upper Unc. [days]\"] - df[\"Transit Midpoint Lower Unc. [days]\"]) * 24 * 60 * 60\n",
    "\n",
    "df[\"Required Delta T [years]\"] = P0 * np.sqrt(-(1/dp_de) * math.sqrt(8) * sigma * sp.special.erfinv(0.95))  / (60 * 60 * 24 * 365)\n",
    "df[[\"Planet Name\", \"Required Delta T [years]\"]].sort_values(by=\"Required Delta T [years]\", ascending=True).head(15)"
   ]
  },
  {
   "cell_type": "markdown",
   "id": "161dbfe1-9653-460b-8cda-e05167e9167e",
   "metadata": {
    "tags": []
   },
   "source": [
    "### Accounting for multiple transit observations"
   ]
  },
  {
   "cell_type": "markdown",
   "id": "1af9a60d-334e-4448-9b41-945b821a6cba",
   "metadata": {},
   "source": [
    "Of course we can observe more than two transits. To account for the possibility of multiple transits we can think of each subsequent measurement as another transit time variation such that we now measure N transit timing variations of the form:\n",
    "\n",
    "$\\hat{TTV}_{i} = \\hat{TTV}(0, E_{i}) \\sim N(\\frac{1}{2}\\frac{dP}{dE}E_{i}^2, 4\\sigma^{2})$\n",
    "\n",
    "Since each transit timing variation's error is IID, the joint probability of a sequence of TTVs can be described by a multivariate normal distribution with no cross correlations:\n",
    "\n",
    "$P(\\{TTV_{i}\\}_{i=1}^{i=N}|\\frac{dP}{dE}) \\sim \\mathcal {N}(\\frac{1}{2}\\frac{dP}{dE}\\{E_{i}^2\\}_{i=1}^{i=N}, 4\\sigma^{2}\\boldsymbol{I}) = \\prod_{i=1}^{i=N-1} N(\\frac{1}{2}\\frac{dP}{dE}E_{i}^2, 4\\sigma^{2})$"
   ]
  },
  {
   "cell_type": "markdown",
   "id": "1e2ff9c4-608b-4084-a02c-7f71cdbd6d4b",
   "metadata": {},
   "source": [
    "To construct the posterior model we again multiply by the infinite variance prior on dP/dE and complete the square. Now we get that:\n",
    "\n",
    "$P(\\frac{dP}{dE}|TTV) \\sim N(\\frac{\\sum_{i=1}^{i=N-1}E_{i}^4\\frac{2TTV_{i}}{E_{i}^2}}{\\sum_{i=1}^{i=N-1}{E_{i}^4}}, \\frac{4\\sigma^2}{\\sum_{i=1}^{i=N-1}E_{i}^4})$\n"
   ]
  },
  {
   "cell_type": "markdown",
   "id": "419ab8dd-8512-4362-b370-5d77a7e69c68",
   "metadata": {},
   "source": [
    "Contrasting this with the previous model:\n",
    "    \n",
    "$P(\\frac{dP}{dE}|TTV) \\sim N(\\frac{2TTV}{E^2}, \\frac{4\\sigma^2}{E^4})$\n"
   ]
  },
  {
   "cell_type": "markdown",
   "id": "905db50b-98a0-41db-bb67-bd6fc4bf49f3",
   "metadata": {},
   "source": [
    "We see that it is similar to before, but now the MAP estimate of dP/dE becomes the average of TTV-derived measurements weighted by how far out they are (i.e. we place more weight on TTVs observed over longer time ranges). Similarly, the variance now scales with both the time range and with the number of measurements."
   ]
  },
  {
   "cell_type": "markdown",
   "id": "22bc8fa1-2ef8-428c-90a2-1055c3db9713",
   "metadata": {},
   "source": [
    "Note that this result lines up with the standard conjugate prior for IID normal random variables (see https://en.wikipedia.org/wiki/Conjugate_prior), with the only change being the weighting by E^4."
   ]
  },
  {
   "cell_type": "markdown",
   "id": "0e143f33-99f8-4f0c-940e-8590a301c749",
   "metadata": {},
   "source": [
    "We could swap in our theorised TTVs and invert this equation (with a few assumptions) to get the required number of transits that we need to measure to observe statistically significant decay to some confidence level as before, but I posit that this will only amount to a very small correction on our original estimate as the time range $E^4$ dominates the size of the variance as the number of transits measured increases, not the number of transits themselves."
   ]
  },
  {
   "cell_type": "markdown",
   "id": "94807714-b98b-4e5e-8919-5ced2380c673",
   "metadata": {},
   "source": [
    "Let's try it anyway, approximating the sum:\n",
    "\n",
    "\n",
    "$P(\\frac{dP}{dE}|\\{TTV_{i}\\}_{i=1}^{i=N} \\lt 0) = \\frac{1}{2}[1+\\mathrm{erf}(\\frac{-\\hat{\\frac{dP}{dE}}*N^{\\frac{5}{2}}}{2\\sqrt{10}\\sigma})] = 0.975$"
   ]
  },
  {
   "cell_type": "markdown",
   "id": "5c643853-4773-4080-a072-aef3c1f02149",
   "metadata": {},
   "source": [
    "Note that the argument to the ERF increases with more than the square of the number of observations. As a result, the probability of observing statistically significant orbital decay increases with number of observations by a a factor of $\\sqrt(N)$ more quickly than in the two transit case."
   ]
  },
  {
   "cell_type": "markdown",
   "id": "b03625d7-8269-4c95-a10a-67900650f8dc",
   "metadata": {},
   "source": [
    "$E \\approx (- {\\frac{dE}{dP}} * 2\\sqrt{10}\\sigma * \\mathrm{erf}^{-1}(0.95))^{\\frac{2}{5}}$"
   ]
  },
  {
   "cell_type": "markdown",
   "id": "edce4a7b-8f52-46a7-ae78-beda38f0e89c",
   "metadata": {},
   "source": [
    "Compared to the previous metric we need fewer orbits than we previously thought (power of 2/5 rather than 1/2)."
   ]
  },
  {
   "cell_type": "markdown",
   "id": "e8a31537-006b-4ef9-83e6-bc1945ebcd97",
   "metadata": {},
   "source": [
    "Converting into a time-range of constant period observations we obtain the time range required to observe statistically significant orbital decay using consecutive transit measurements:\n",
    "\n",
    "$\\Delta T = P_{0}E = P_{0} * (-{\\frac{dE}{dP}} * 2\\sqrt{10}\\sigma * \\mathrm{erf}^{-1}(0.95))^{\\frac{2}{5}}$\n",
    "\n",
    "For Wasp-12b this works out to:"
   ]
  },
  {
   "cell_type": "code",
   "execution_count": 26,
   "id": "7a82735f-418e-4c92-9a73-47431cd2c3fd",
   "metadata": {},
   "outputs": [
    {
     "data": {
      "text/plain": [
       "1.8709636943178622"
      ]
     },
     "execution_count": 26,
     "metadata": {},
     "output_type": "execute_result"
    }
   ],
   "source": [
    "P0 = 1.091420 * 24 * 60 * 60\n",
    "dp_de = -0.053703e-3\n",
    "sigma = 60  # assumed\n",
    "\n",
    "delta_T = P0 * np.power(-(1/dp_de) * 2 * math.sqrt(10) * sigma * sp.special.erfinv(0.95), 0.4)\n",
    "delta_T / (60 * 60 * 24 * 365)"
   ]
  },
  {
   "cell_type": "markdown",
   "id": "5c26cd4d-710c-4c90-9673-4b3e6d14666d",
   "metadata": {},
   "source": [
    "### Mock up test"
   ]
  },
  {
   "cell_type": "markdown",
   "id": "8b6c1db2-fe36-45fc-be23-403915746492",
   "metadata": {},
   "source": [
    "* Generate artificial transit time data for a constant period model and a constant decay model, over both a single short time range and two clusters of transit times spread out, and fit to this data."
   ]
  },
  {
   "cell_type": "markdown",
   "id": "c10c9e74-af7b-4b6d-bcbe-fd860dca052e",
   "metadata": {},
   "source": [
    "* We may want to construct a new model that does not assume a known P0."
   ]
  },
  {
   "cell_type": "markdown",
   "id": "ac69f3da-49b4-4877-b526-81e609f5ebfc",
   "metadata": {
    "tags": []
   },
   "source": [
    "### Modelling"
   ]
  },
  {
   "cell_type": "markdown",
   "id": "115722fd-721f-4276-8be3-7e87f2bdaabf",
   "metadata": {},
   "source": [
    "Next step: use this approach for actual modelling and determining parameter posteriors."
   ]
  },
  {
   "cell_type": "markdown",
   "id": "87c57d02-e7ac-4dcd-aced-e412d2b186a9",
   "metadata": {},
   "source": [
    "Reached out to Billy Edwards, Simone Hagey and Filip Walter for data."
   ]
  },
  {
   "cell_type": "markdown",
   "id": "c381f15a-1d19-4f8e-8ee4-28d9131b5f97",
   "metadata": {
    "jp-MarkdownHeadingCollapsed": true,
    "tags": []
   },
   "source": [
    "### Questions\n",
    "\n",
    "I keep seeing O-C, that's just the same thing as transit timimg deviation right? What does it stand for?"
   ]
  },
  {
   "cell_type": "markdown",
   "id": "7c0a85e6-2230-430b-b9b1-821382b6d168",
   "metadata": {
    "tags": []
   },
   "source": [
    "### Further work"
   ]
  },
  {
   "cell_type": "markdown",
   "id": "a2b2f8cc-98f7-4fdb-a4e3-6fb2e8965d27",
   "metadata": {},
   "source": [
    "* Use ExoClock/ETD/Kepler/Tess to combine fitted values for as many transit times as we can and apply the observability metric to see which planets should currently exhibit observable orbital decay.\n",
    "* Apsidal precession may be easily conflated with decay. We should model this too and incorporate it into our metric i.e. try to capture the length of time extra we need to differentiate between orbital decay and precession.\n",
    "* We should try to more accurately model the equations of motion of tidal decay, including:\n",
    "    * A more accurate $P^{10/3}\\frac{dP}{dE}$ term as discussed.\n",
    "    * Effects of eccentricity on theorised dP/dE.\n",
    "    * The effect of the coupled differential over time - we can't strictly speaking fit $P^{10/3}\\frac{dP}{dE}$ as constant because a is actually changing over time.\n",
    "* We can also imagine other setups where, given a set of transit time data, we compute whether or not a single individual model can fit the data to within a 97.5% confidence level in the style of accepting or rejecting a null hypothesis. Uncertain about this: or similarly to this approach, inverting the formula to find the time range between two transits that would be required for the 97.5% level measurement to fall outside of the measurement uncertainty of the data.\n",
    "* Model transit times using these new methods.\n",
    "* Using better values of Q* for theorised dP/dE.\n",
    "* Use MCMC posterior methods to include priors in our model and come up with posterior distributions over fitted parameters.\n",
    "* Fit Q* directly in the model.\n",
    "* Fit the model directly from the raw lightcurves.\n",
    "* Add in radial velocity observations into the model.\n",
    "* Account for line-of-sight accelration and stellar activity in the modelling."
   ]
  },
  {
   "cell_type": "code",
   "execution_count": null,
   "id": "08352b6c-c822-4463-85f0-56ee2d33ea27",
   "metadata": {},
   "outputs": [],
   "source": []
  },
  {
   "cell_type": "markdown",
   "id": "e95375b7-6447-49c3-8b1a-b9c61f6731db",
   "metadata": {},
   "source": []
  },
  {
   "cell_type": "markdown",
   "id": "18d6050c-2b19-45e3-844c-f8f30029fabd",
   "metadata": {},
   "source": []
  }
 ],
 "metadata": {
  "kernelspec": {
   "display_name": "Python 3 (ipykernel)",
   "language": "python",
   "name": "python3"
  },
  "language_info": {
   "codemirror_mode": {
    "name": "ipython",
    "version": 3
   },
   "file_extension": ".py",
   "mimetype": "text/x-python",
   "name": "python",
   "nbconvert_exporter": "python",
   "pygments_lexer": "ipython3",
   "version": "3.11.6"
  }
 },
 "nbformat": 4,
 "nbformat_minor": 5
}
